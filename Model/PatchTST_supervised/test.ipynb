{
 "cells": [
  {
   "cell_type": "code",
   "execution_count": 9,
   "metadata": {},
   "outputs": [
    {
     "name": "stdout",
     "output_type": "stream",
     "text": [
      "^C\n"
     ]
    }
   ],
   "source": [
    "# import file run_longExp.py from the same directory\n",
    "!python run_longExp.py \\\n",
    "      --do_predict \\\n",
    "      --random_seed 2021 \\\n",
    "      --is_training 1 \\\n",
    "      --root_path ./dataset/ \\\n",
    "      --data_path BNB2019_2024.csv \\\n",
    "      --model_id BNB2019_2024 \\\n",
    "      --model PatchTST \\\n",
    "      --data custom \\\n",
    "      --features MS \\\n",
    "      --target Close \\\n",
    "      --freq d \\\n",
    "      --seq_len 336 \\\n",
    "      --pred_len 30 \\\n",
    "      --enc_in 5 \\\n",
    "      --e_layers 3 \\\n",
    "      --n_heads 16 \\\n",
    "      --d_model 128 \\\n",
    "      --d_ff 256 \\\n",
    "      --dropout 0.2\\\n",
    "      --fc_dropout 0.2\\\n",
    "      --head_dropout 0\\\n",
    "      --patch_len 16\\\n",
    "      --stride 8\\\n",
    "      --des Exp \\\n",
    "      --train_epochs 100\\\n",
    "      --patience 20\\\n",
    "      --lradj TST\\\n",
    "      --pct_start 0.4 \\\n",
    "      --itr 1 --batch_size 128 --learning_rate 0.0001 >logs/LongForecasting/'BNB2019_2024_336_30'.log "
   ]
  }
 ],
 "metadata": {
  "kernelspec": {
   "display_name": "Python 3",
   "language": "python",
   "name": "python3"
  },
  "language_info": {
   "codemirror_mode": {
    "name": "ipython",
    "version": 3
   },
   "file_extension": ".py",
   "mimetype": "text/x-python",
   "name": "python",
   "nbconvert_exporter": "python",
   "pygments_lexer": "ipython3",
   "version": "3.11.8"
  }
 },
 "nbformat": 4,
 "nbformat_minor": 2
}
